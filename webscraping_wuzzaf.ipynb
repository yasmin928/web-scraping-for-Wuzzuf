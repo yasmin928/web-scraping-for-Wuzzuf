{
 "cells": [
  {
   "cell_type": "code",
   "execution_count": 1,
   "id": "895e5339",
   "metadata": {},
   "outputs": [],
   "source": [
    "#iimport liberares\n",
    "import requests \n",
    "from bs4 import BeautifulSoup \n",
    "import webbrowser  \n",
    "import selenium \n",
    "import csv\n",
    "from itertools import zip_longest\n",
    "import pandas as pd"
   ]
  },
  {
   "cell_type": "code",
   "execution_count": 2,
   "id": "cbabed69",
   "metadata": {},
   "outputs": [],
   "source": [
    "job_title=[]\n",
    "company_name=[]\n",
    "locations_name=[]\n",
    "skills=[]\n",
    "links=[]"
   ]
  },
  {
   "cell_type": "code",
   "execution_count": 3,
   "id": "8ac1bdcf",
   "metadata": {},
   "outputs": [],
   "source": [
    "#user request to fitch the url\n",
    "result = requests.get('https://wuzzuf.net/search/jobs/?q=python&a=hpb')"
   ]
  },
  {
   "cell_type": "code",
   "execution_count": 4,
   "id": "26db3592",
   "metadata": {},
   "outputs": [],
   "source": [
    "#save pge content/markup\n",
    "src=result.content\n",
    "#print(src)"
   ]
  },
  {
   "cell_type": "code",
   "execution_count": 5,
   "id": "e89c0322",
   "metadata": {},
   "outputs": [],
   "source": [
    "#create soup object to parse content\n",
    "soup =BeautifulSoup(src,\"lxml\")\n",
    "#print(soup)"
   ]
  },
  {
   "cell_type": "code",
   "execution_count": 6,
   "id": "20ffe195",
   "metadata": {},
   "outputs": [],
   "source": [
    "#find elements containing info we need\n",
    "#job titiles,job skilles,company name,location name\n",
    "#note:find_all return a list\n",
    "job_titles =soup.find_all(\"h2\",{\"class\":\"css-m604qf\"})\n",
    "company_names = soup.find_all(\"a\",{\"class\":\"css-17s97q8\"})\n",
    "locations_names = soup.find_all(\"span\",{\"class\":\"css-5wys0k\"})\n",
    "job_skills =soup.find_all(\"div\",{\"class\":\"css-y4udm8\"})\n",
    "#print(job_titles)\n",
    "#print(company_names)\n",
    "#print(locations_names)\n",
    "#print(job_skills)"
   ]
  },
  {
   "cell_type": "code",
   "execution_count": 7,
   "id": "84cdeb89",
   "metadata": {},
   "outputs": [],
   "source": [
    "#crreate loop over returned lists to extreact needed info innto another list\n",
    "for i in range(len(job_titles)):\n",
    "    job_title.append(job_titles[i].text)\n",
    "    links.append(job_titles[i].find(\"a\").attrs[\"href\"])\n",
    "    company_name.append(company_names[i].text)\n",
    "    locations_name.append(locations_names[i].text)\n",
    "    skills.append(job_skills[i].text)\n",
    "    "
   ]
  },
  {
   "cell_type": "code",
   "execution_count": 8,
   "id": "301c0055",
   "metadata": {},
   "outputs": [],
   "source": [
    "#create csv file and fill it with values\n",
    "#Note*means unpaking for the content\n",
    "file_list =[job_title, company_name, locations_name , skills ,links  ]\n",
    "exported = zip_longest(*file_list)\n",
    "with open(r\"C:\\Users\\GREEN\\jobtest.csv\" , \"w\") as myfile:\n",
    "    wr = csv.writer(myfile)\n",
    "    wr.writerow([\"job title\", \"company name\" , \"location\",\"skills\",\"links\"])\n",
    "    wr.writerows(exported)"
   ]
  },
  {
   "cell_type": "code",
   "execution_count": null,
   "id": "35885879",
   "metadata": {},
   "outputs": [],
   "source": []
  },
  {
   "cell_type": "code",
   "execution_count": null,
   "id": "1f4f5b06",
   "metadata": {},
   "outputs": [],
   "source": []
  },
  {
   "cell_type": "code",
   "execution_count": null,
   "id": "aa7c3f07",
   "metadata": {},
   "outputs": [],
   "source": []
  }
 ],
 "metadata": {
  "kernelspec": {
   "display_name": "Python 3 (ipykernel)",
   "language": "python",
   "name": "python3"
  },
  "language_info": {
   "codemirror_mode": {
    "name": "ipython",
    "version": 3
   },
   "file_extension": ".py",
   "mimetype": "text/x-python",
   "name": "python",
   "nbconvert_exporter": "python",
   "pygments_lexer": "ipython3",
   "version": "3.9.13"
  }
 },
 "nbformat": 4,
 "nbformat_minor": 5
}
